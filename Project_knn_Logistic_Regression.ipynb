{
  "cells": [
    {
      "cell_type": "markdown",
      "metadata": {
        "id": "VDP1oplpQrRz"
      },
      "source": [
        "# Project\n",
        "\n",
        "**Code Implementation: Performances between K-Nearest Neighbors and Logistic Regression**"
      ]
    },
    {
      "cell_type": "markdown",
      "metadata": {
        "id": "qj_UCnyURAF-"
      },
      "source": [
        "**k-NN Algorithm**"
      ]
    },
    {
      "cell_type": "code",
      "execution_count": 1,
      "metadata": {
        "id": "KOgEaUi0Q_zu"
      },
      "outputs": [],
      "source": [
        "import numpy as np\n",
        "import pandas as pd\n",
        "import seaborn as sns\n",
        "import matplotlib.pyplot as plt\n",
        "from sklearn import datasets, neighbors\n",
        "from sklearn.linear_model import LogisticRegression\n",
        "from sklearn.model_selection import train_test_split\n",
        "from sklearn.preprocessing import StandardScaler\n",
        "from sklearn.neighbors import KNeighborsClassifier\n",
        "from sklearn.metrics import confusion_matrix\n",
        "from sklearn.metrics import f1_score\n",
        "from sklearn.metrics import accuracy_score\n",
        "\n"
      ]
    },
    {
      "cell_type": "code",
      "execution_count": 2,
      "metadata": {
        "id": "WC00DlA4Qlx3"
      },
      "outputs": [],
      "source": [
        "# Load dataset: Iris\n",
        "iris = datasets.load_iris()\n",
        "#print(iris)"
      ]
    },
    {
      "cell_type": "code",
      "execution_count": 3,
      "metadata": {
        "id": "ZXKUp-TrRk_W"
      },
      "outputs": [],
      "source": [
        "# We choose the target class as our label with three different types of plants\n",
        "X = iris['data'][:,2:] # Pental width and length (features)\n",
        "y = iris['target']\n",
        "#y\n",
        "\n",
        "# Train test split the data \n",
        "# and stratify the target label to keep the same ratio in test\n",
        "X_train, X_test, y_train, y_test = train_test_split(X, y, test_size=0.2, random_state=1, stratify=y) # 80% training, 20% testing\n",
        "\n",
        "# Data scaling\n",
        "Scaler = StandardScaler()\n",
        "\n",
        "X_train = Scaler.fit_transform(X_train)\n",
        "X_test = Scaler.transform(X_test)\n",
        "\n"
      ]
    },
    {
      "cell_type": "code",
      "execution_count": 4,
      "metadata": {
        "colab": {
          "base_uri": "https://localhost:8080/"
        },
        "id": "E0OpJ_FuSiZT",
        "outputId": "c2b87b6a-b359-4299-c47b-6f0f0068a4f1"
      },
      "outputs": [
        {
          "data": {
            "text/plain": [
              "array([2, 0, 1, 0, 0, 0, 2, 2, 2, 1, 0, 1, 2, 1, 2, 0, 2, 1, 1, 2, 1, 1,\n",
              "       0, 0, 2, 1, 0, 0, 1, 1])"
            ]
          },
          "execution_count": 4,
          "metadata": {},
          "output_type": "execute_result"
        }
      ],
      "source": [
        "# Train the classifier with k = 3, using Euclidean distance metric\n",
        "# Fit the data\n",
        "knn = KNeighborsClassifier(n_neighbors=3)\n",
        "knn.fit(X_train, y_train)\n",
        "\n",
        "y_pred = knn.predict(X_test)\n",
        "y_pred\n",
        "\n"
      ]
    },
    {
      "cell_type": "code",
      "execution_count": 6,
      "metadata": {
        "colab": {
          "base_uri": "https://localhost:8080/"
        },
        "id": "LD3ksYAhzzJm",
        "outputId": "8abfd425-7330-4594-faf3-cf67a15c68ce"
      },
      "outputs": [
        {
          "name": "stdout",
          "output_type": "stream",
          "text": [
            "Confusion Matrix: \n",
            " [[10  0  0]\n",
            " [ 0 10  0]\n",
            " [ 0  1  9]]\n",
            "Accuracy score:  0.9667\n"
          ]
        }
      ],
      "source": [
        "# Creating confusion matrix and accuracy score to test the performance\n",
        "cm = confusion_matrix(y_test, y_pred)\n",
        "acc = accuracy_score(y_test, y_pred)\n",
        "\n",
        "print('Confusion Matrix: \\n', cm)\n",
        "print('Accuracy score: ', round(acc, 4))\n",
        "\n"
      ]
    },
    {
      "cell_type": "code",
      "execution_count": 7,
      "metadata": {
        "colab": {
          "base_uri": "https://localhost:8080/",
          "height": 295
        },
        "id": "o3KICITW1QzE",
        "outputId": "1e2e2ccc-297d-4244-d8fe-3ac720affff9"
      },
      "outputs": [
        {
          "data": {
            "image/png": "[encoded data removed]",
            "text/plain": [
              "<Figure size 432x288 with 1 Axes>"
            ]
          },
          "metadata": {
            "needs_background": "light"
          },
          "output_type": "display_data"
        }
      ],
      "source": [
        "# Plot the data\n",
        "s = 0.02 # step size in meshgrid function\n",
        "\n",
        "clf =  neighbors.KNeighborsClassifier(n_neighbors=3)\n",
        "clf.fit(X_train, y_train)\n",
        "\n",
        "# Plot the decision boundary with meshgrid function\n",
        "X_min, X_max = X[:, 0].min() - 1, X[:, 0].max() + 1\n",
        "y_min, y_max = X[:, 1].min() - 1, X[:, 1].max() + 1\n",
        "xx, yy = np.meshgrid(np.arange(X_min, X_max, s), np.arange(y_min, y_max, s))\n",
        "Z = clf.predict(np.c_[xx.ravel(), yy.ravel()])\n",
        "\n",
        "# Scatterplot of training data\n",
        "sns.scatterplot(\n",
        "    x=X[:, 0],\n",
        "    y=X[:, 1],\n",
        "    hue=iris.target_names[y],\n",
        "    alpha=1.0,\n",
        "    edgecolor=\"black\",\n",
        "    )\n",
        "plt.xlim(xx.min(), xx.max())\n",
        "plt.ylim(yy.min(), yy.max())\n",
        "plt.title(\"k = 3 Classification\")\n",
        "plt.xlabel(iris.feature_names[0])\n",
        "plt.ylabel(iris.feature_names[1])\n",
        "\n",
        "plt.show()\n",
        "\n"
      ]
    },
    {
      "cell_type": "markdown",
      "metadata": {
        "id": "RfC1iRzN2D3k"
      },
      "source": [
        "**Find the best k**"
      ]
    },
    {
      "cell_type": "code",
      "execution_count": 8,
      "metadata": {
        "colab": {
          "base_uri": "https://localhost:8080/"
        },
        "id": "IvJokinX2Dgi",
        "outputId": "37933c0b-3e58-4c4b-9765-5892e9a610b9"
      },
      "outputs": [
        {
          "name": "stdout",
          "output_type": "stream",
          "text": [
            "[0.9666666666666667, 0.9666666666666667, 0.9666666666666667, 0.9666666666666667, 0.9666666666666667, 0.9666666666666667, 0.9666666666666667]\n"
          ]
        }
      ],
      "source": [
        "X_train,X_test,y_train, y_test = train_test_split(X, y, test_size=0.2,random_state=1, stratify=y)\n",
        "\n",
        "accuracy = []\n",
        "\n",
        "# Given multiple numbers of k\n",
        "for k in [3,5,7,9,11,13,15]:\n",
        "  clf = KNeighborsClassifier(n_neighbors=k, p=2, metric='euclidean') # Euclidean method\n",
        "  clf.fit(X_train, y_train)\n",
        "  \n",
        "  y_pred = clf.predict(X_test)\n",
        "  accuracy.append(accuracy_score(y_test, y_pred))\n",
        "\n",
        "print(accuracy)"
      ]
    },
    {
      "cell_type": "markdown",
      "metadata": {
        "id": "o23Mqxkt83g1"
      },
      "source": [
        "**Logistic Regression**"
      ]
    },
    {
      "cell_type": "code",
      "execution_count": 12,
      "metadata": {
        "colab": {
          "base_uri": "https://localhost:8080/"
        },
        "id": "U_EeAOYo7scg",
        "outputId": "4b6ff25b-62c9-4c38-b06e-1a974a172f86"
      },
      "outputs": [
        {
          "name": "stdout",
          "output_type": "stream",
          "text": [
            "Logistic Regression: \n",
            "\n",
            "Accuracy is:  1.0\n",
            "Confusion matrix is: \n",
            " [[24  0]\n",
            " [ 0  6]]\n"
          ]
        }
      ],
      "source": [
        "# In this case, we will use the same dataset as well\n",
        "iris = datasets.load_iris()\n",
        "\n",
        "# Binary classification\n",
        "X = iris['data'][:,2:]\n",
        "y = (iris['target'] == 2).astype(int) # If Iris = Virginica, else 0\n",
        "\n",
        "X_train, X_test, y_train, y_test = train_test_split(X, y, test_size=0.2, random_state=0)\n",
        "\n",
        "# Data scaling\n",
        "Scaler = StandardScaler()\n",
        "X_train = Scaler.fit_transform(X_train)\n",
        "X_test = Scaler.transform(X_test)\n",
        "\n",
        "# Fit the data\n",
        "log_reg = LogisticRegression(random_state=0)\n",
        "log_reg.fit(X_train, y_train)\n",
        "\n",
        "y_pred = log_reg.predict(X_test)\n",
        "\n",
        "cm = confusion_matrix(y_test, y_pred)\n",
        "acc = accuracy_score(y_test, y_pred)\n",
        "\n",
        "print('Logistic Regression: \\n')\n",
        "print('Accuracy is: ', round(acc, 4))\n",
        "print('Confusion matrix is: \\n', cm)\n",
        "\n"
      ]
    },
    {
      "cell_type": "code",
      "execution_count": 32,
      "metadata": {
        "colab": {
          "base_uri": "https://localhost:8080/",
          "height": 295
        },
        "id": "ynvYJq2HxqyI",
        "outputId": "a465043c-51a5-4688-bd68-54c3ace0a27f"
      },
      "outputs": [
        {
          "data": {
            "image/png": "[encoded data removed]",
            "text/plain": [
              "<Figure size 432x288 with 1 Axes>"
            ]
          },
          "metadata": {
            "needs_background": "light"
          },
          "output_type": "display_data"
        }
      ],
      "source": [
        "# Plot the Logistic Regression\n",
        "# We need to get the model parameters\n",
        "p = log_reg.intercept_[0]\n",
        "wi, wj = log_reg.coef_.T # Transpose the coefficient\n",
        "\n",
        "# Find the gradient and intercept of the decision boundary\n",
        "c = -p/ wj\n",
        "m = -wi/ wj\n",
        "\n",
        "# Classify the data with the decision boundary\n",
        "xmin, xmax = 3, 7\n",
        "ymin, ymax = 0.5, 3\n",
        "xdb = np.array([xmin, xmax])\n",
        "ydb = m * xdb + c\n",
        "\n",
        "\n",
        "# Separate observations in two groups: Is Iris and is not Iris\n",
        "X_iris = X[[i for i in range(len(y)) if y[i] == 1],:]\n",
        "X_not_iris = X[[i for i in range(len(y)) if y[i] == 0],:]\n",
        "\n",
        "# Make scatterplots\n",
        "not_iris = plt.scatter(X_not_iris[:,0], X_not_iris[:,1], marker='^', color='r')\n",
        "is_iris = plt.scatter(X_iris[:,0], X_iris[:,1], marker='o', color='g')\n",
        "\n",
        "# Adjust and generate legend\n",
        "plt.legend((not_iris, is_iris),\n",
        "           ('Not Virginica', 'Virginica'),\n",
        "           title='True Labels',\n",
        "           loc = 'upper left',\n",
        "           scatterpoints=1,\n",
        "           fontsize=6)\n",
        "plt.xlabel(\"Petal Length\")\n",
        "plt.ylabel(\"Petal Width\")\n",
        "plt.title(\"Logistic Regression Decision Boundary\")\n",
        "plt.xlim([3,7])\n",
        "plt.ylim([0.5,3])\n",
        "plt.show()\n",
        "\n"
      ]
    },
    {
      "cell_type": "markdown",
      "metadata": {
        "id": "pJWMYX06LiYk"
      },
      "source": [
        "**k-Means**"
      ]
    },
    {
      "cell_type": "code",
      "execution_count": 34,
      "metadata": {
        "colab": {
          "base_uri": "https://localhost:8080/",
          "height": 493
        },
        "id": "wc12JTNrLl_Y",
        "outputId": "e37d0954-4dab-4c97-8023-42a9da7e48a5"
      },
      "outputs": [
        {
          "name": "stdout",
          "output_type": "stream",
          "text": [
            "Looking in indexes: https://pypi.org/simple, https://us-python.pkg.dev/colab-wheels/public/simple/\n",
            "Requirement already satisfied: kneed in /usr/local/lib/python3.8/dist-packages (0.8.1)\n",
            "Requirement already satisfied: scipy>=1.0.0 in /usr/local/lib/python3.8/dist-packages (from kneed) (1.7.3)\n",
            "Requirement already satisfied: numpy>=1.14.2 in /usr/local/lib/python3.8/dist-packages (from kneed) (1.21.6)\n"
          ]
        },
        {
          "data": {
            "text/html": [
              "\n",
              "  <div id=\"df-8bc7c9b1-4a93-4d3a-8d7f-a0e37a91d0fd\">\n",
              "    <div class=\"colab-df-container\">\n",
              "      <div>\n",
              "<style scoped>\n",
              "    .dataframe tbody tr th:only-of-type {\n",
              "        vertical-align: middle;\n",
              "    }\n",
              "\n",
              "    .dataframe tbody tr th {\n",
              "        vertical-align: top;\n",
              "    }\n",
              "\n",
              "    .dataframe thead th {\n",
              "        text-align: right;\n",
              "    }\n",
              "</style>\n",
              "<table border=\"1\" class=\"dataframe\">\n",
              "  <thead>\n",
              "    <tr style=\"text-align: right;\">\n",
              "      <th></th>\n",
              "      <th>Area</th>\n",
              "      <th>Perimeter</th>\n",
              "      <th>Compactness</th>\n",
              "      <th>Length of kernel</th>\n",
              "      <th>Width of kernel</th>\n",
              "      <th>Asymmetry coefficient</th>\n",
              "      <th>Length of kernal groove</th>\n",
              "      <th>Class</th>\n",
              "    </tr>\n",
              "  </thead>\n",
              "  <tbody>\n",
              "    <tr>\n",
              "      <th>0</th>\n",
              "      <td>15.26</td>\n",
              "      <td>14.84</td>\n",
              "      <td>0.8710</td>\n",
              "      <td>5.763</td>\n",
              "      <td>3.312</td>\n",
              "      <td>2.221</td>\n",
              "      <td>5.220</td>\n",
              "      <td>1.0</td>\n",
              "    </tr>\n",
              "    <tr>\n",
              "      <th>1</th>\n",
              "      <td>14.88</td>\n",
              "      <td>14.57</td>\n",
              "      <td>0.8811</td>\n",
              "      <td>5.554</td>\n",
              "      <td>3.333</td>\n",
              "      <td>1.018</td>\n",
              "      <td>4.956</td>\n",
              "      <td>1.0</td>\n",
              "    </tr>\n",
              "    <tr>\n",
              "      <th>2</th>\n",
              "      <td>14.29</td>\n",
              "      <td>14.09</td>\n",
              "      <td>0.9050</td>\n",
              "      <td>5.291</td>\n",
              "      <td>3.337</td>\n",
              "      <td>2.699</td>\n",
              "      <td>4.825</td>\n",
              "      <td>1.0</td>\n",
              "    </tr>\n",
              "    <tr>\n",
              "      <th>3</th>\n",
              "      <td>13.84</td>\n",
              "      <td>13.94</td>\n",
              "      <td>0.8955</td>\n",
              "      <td>5.324</td>\n",
              "      <td>3.379</td>\n",
              "      <td>2.259</td>\n",
              "      <td>4.805</td>\n",
              "      <td>1.0</td>\n",
              "    </tr>\n",
              "    <tr>\n",
              "      <th>4</th>\n",
              "      <td>16.14</td>\n",
              "      <td>14.99</td>\n",
              "      <td>0.9034</td>\n",
              "      <td>5.658</td>\n",
              "      <td>3.562</td>\n",
              "      <td>1.355</td>\n",
              "      <td>5.175</td>\n",
              "      <td>1.0</td>\n",
              "    </tr>\n",
              "    <tr>\n",
              "      <th>...</th>\n",
              "      <td>...</td>\n",
              "      <td>...</td>\n",
              "      <td>...</td>\n",
              "      <td>...</td>\n",
              "      <td>...</td>\n",
              "      <td>...</td>\n",
              "      <td>...</td>\n",
              "      <td>...</td>\n",
              "    </tr>\n",
              "    <tr>\n",
              "      <th>205</th>\n",
              "      <td>12.19</td>\n",
              "      <td>13.20</td>\n",
              "      <td>0.8783</td>\n",
              "      <td>5.137</td>\n",
              "      <td>2.981</td>\n",
              "      <td>3.631</td>\n",
              "      <td>4.870</td>\n",
              "      <td>3.0</td>\n",
              "    </tr>\n",
              "    <tr>\n",
              "      <th>206</th>\n",
              "      <td>11.23</td>\n",
              "      <td>12.88</td>\n",
              "      <td>0.8511</td>\n",
              "      <td>5.140</td>\n",
              "      <td>2.795</td>\n",
              "      <td>4.325</td>\n",
              "      <td>5.003</td>\n",
              "      <td>3.0</td>\n",
              "    </tr>\n",
              "    <tr>\n",
              "      <th>207</th>\n",
              "      <td>13.20</td>\n",
              "      <td>13.66</td>\n",
              "      <td>0.8883</td>\n",
              "      <td>5.236</td>\n",
              "      <td>3.232</td>\n",
              "      <td>8.315</td>\n",
              "      <td>5.056</td>\n",
              "      <td>3.0</td>\n",
              "    </tr>\n",
              "    <tr>\n",
              "      <th>208</th>\n",
              "      <td>11.84</td>\n",
              "      <td>13.21</td>\n",
              "      <td>0.8521</td>\n",
              "      <td>5.175</td>\n",
              "      <td>2.836</td>\n",
              "      <td>3.598</td>\n",
              "      <td>5.044</td>\n",
              "      <td>3.0</td>\n",
              "    </tr>\n",
              "    <tr>\n",
              "      <th>209</th>\n",
              "      <td>12.30</td>\n",
              "      <td>13.34</td>\n",
              "      <td>0.8684</td>\n",
              "      <td>5.243</td>\n",
              "      <td>2.974</td>\n",
              "      <td>5.637</td>\n",
              "      <td>5.063</td>\n",
              "      <td>3.0</td>\n",
              "    </tr>\n",
              "  </tbody>\n",
              "</table>\n",
              "<p>210 rows × 8 columns</p>\n",
              "</div>\n",
              "      <button class=\"colab-df-convert\" onclick=\"convertToInteractive('df-8bc7c9b1-4a93-4d3a-8d7f-a0e37a91d0fd')\"\n",
              "              title=\"Convert this dataframe to an interactive table.\"\n",
              "              style=\"display:none;\">\n",
              "        \n",
              "  <svg xmlns=\"http://www.w3.org/2000/svg\" height=\"24px\"viewBox=\"0 0 24 24\"\n",
              "       width=\"24px\">\n",
              "    <path d=\"M0 0h24v24H0V0z\" fill=\"none\"/>\n",
              "    <path d=\"M18.56 5.44l.94 2.06.94-2.06 2.06-.94-2.06-.94-.94-2.06-.94 2.06-2.06.94zm-11 1L8.5 8.5l.94-2.06 2.06-.94-2.06-.94L8.5 2.5l-.94 2.06-2.06.94zm10 10l.94 2.06.94-2.06 2.06-.94-2.06-.94-.94-2.06-.94 2.06-2.06.94z\"/><path d=\"M17.41 7.96l-1.37-1.37c-.4-.4-.92-.59-1.43-.59-.52 0-1.04.2-1.43.59L10.3 9.45l-7.72 7.72c-.78.78-.78 2.05 0 2.83L4 21.41c.39.39.9.59 1.41.59.51 0 1.02-.2 1.41-.59l7.78-7.78 2.81-2.81c.8-.78.8-2.07 0-2.86zM5.41 20L4 18.59l7.72-7.72 1.47 1.35L5.41 20z\"/>\n",
              "  </svg>\n",
              "      </button>\n",
              "      \n",
              "  <style>\n",
              "    .colab-df-container {\n",
              "      display:flex;\n",
              "      flex-wrap:wrap;\n",
              "      gap: 12px;\n",
              "    }\n",
              "\n",
              "    .colab-df-convert {\n",
              "      background-color: #E8F0FE;\n",
              "      border: none;\n",
              "      border-radius: 50%;\n",
              "      cursor: pointer;\n",
              "      display: none;\n",
              "      fill: #1967D2;\n",
              "      height: 32px;\n",
              "      padding: 0 0 0 0;\n",
              "      width: 32px;\n",
              "    }\n",
              "\n",
              "    .colab-df-convert:hover {\n",
              "      background-color: #E2EBFA;\n",
              "      box-shadow: 0px 1px 2px rgba(60, 64, 67, 0.3), 0px 1px 3px 1px rgba(60, 64, 67, 0.15);\n",
              "      fill: #174EA6;\n",
              "    }\n",
              "\n",
              "    [theme=dark] .colab-df-convert {\n",
              "      background-color: #3B4455;\n",
              "      fill: #D2E3FC;\n",
              "    }\n",
              "\n",
              "    [theme=dark] .colab-df-convert:hover {\n",
              "      background-color: #434B5C;\n",
              "      box-shadow: 0px 1px 3px 1px rgba(0, 0, 0, 0.15);\n",
              "      filter: drop-shadow(0px 1px 2px rgba(0, 0, 0, 0.3));\n",
              "      fill: #FFFFFF;\n",
              "    }\n",
              "  </style>\n",
              "\n",
              "      <script>\n",
              "        const buttonEl =\n",
              "          document.querySelector('#df-8bc7c9b1-4a93-4d3a-8d7f-a0e37a91d0fd button.colab-df-convert');\n",
              "        buttonEl.style.display =\n",
              "          google.colab.kernel.accessAllowed ? 'block' : 'none';\n",
              "\n",
              "        async function convertToInteractive(key) {\n",
              "          const element = document.querySelector('#df-8bc7c9b1-4a93-4d3a-8d7f-a0e37a91d0fd');\n",
              "          const dataTable =\n",
              "            await google.colab.kernel.invokeFunction('convertToInteractive',\n",
              "                                                     [key], {});\n",
              "          if (!dataTable) return;\n",
              "\n",
              "          const docLinkHtml = 'Like what you see? Visit the ' +\n",
              "            '<a target=\"_blank\" href=https://colab.research.google.com/notebooks/data_table.ipynb>data table notebook</a>'\n",
              "            + ' to learn more about interactive tables.';\n",
              "          element.innerHTML = '';\n",
              "          dataTable['output_type'] = 'display_data';\n",
              "          await google.colab.output.renderOutput(dataTable, element);\n",
              "          const docLink = document.createElement('div');\n",
              "          docLink.innerHTML = docLinkHtml;\n",
              "          element.appendChild(docLink);\n",
              "        }\n",
              "      </script>\n",
              "    </div>\n",
              "  </div>\n",
              "  "
            ],
            "text/plain": [
              "      Area  Perimeter  Compactness  Length of kernel  Width of kernel  \\\n",
              "0    15.26      14.84       0.8710             5.763            3.312   \n",
              "1    14.88      14.57       0.8811             5.554            3.333   \n",
              "2    14.29      14.09       0.9050             5.291            3.337   \n",
              "3    13.84      13.94       0.8955             5.324            3.379   \n",
              "4    16.14      14.99       0.9034             5.658            3.562   \n",
              "..     ...        ...          ...               ...              ...   \n",
              "205  12.19      13.20       0.8783             5.137            2.981   \n",
              "206  11.23      12.88       0.8511             5.140            2.795   \n",
              "207  13.20      13.66       0.8883             5.236            3.232   \n",
              "208  11.84      13.21       0.8521             5.175            2.836   \n",
              "209  12.30      13.34       0.8684             5.243            2.974   \n",
              "\n",
              "     Asymmetry coefficient  Length of kernal groove  Class  \n",
              "0                    2.221                    5.220    1.0  \n",
              "1                    1.018                    4.956    1.0  \n",
              "2                    2.699                    4.825    1.0  \n",
              "3                    2.259                    4.805    1.0  \n",
              "4                    1.355                    5.175    1.0  \n",
              "..                     ...                      ...    ...  \n",
              "205                  3.631                    4.870    3.0  \n",
              "206                  4.325                    5.003    3.0  \n",
              "207                  8.315                    5.056    3.0  \n",
              "208                  3.598                    5.044    3.0  \n",
              "209                  5.637                    5.063    3.0  \n",
              "\n",
              "[210 rows x 8 columns]"
            ]
          },
          "execution_count": 34,
          "metadata": {},
          "output_type": "execute_result"
        }
      ],
      "source": [
        "from sklearn.cluster import KMeans\n",
        "from sklearn.utils import shuffle\n",
        "!pip install kneed\n",
        "from kneed import KneeLocator, DataGenerator as dg\n",
        "\n",
        "# Import dataset and create feature column\n",
        "data = np.genfromtxt('https://archive.ics.uci.edu/ml/machine-learning-databases/00236/seeds_dataset.txt') # txt format\n",
        "\n",
        "#data\n",
        "\n",
        "feature_columns = ['Area', 'Perimeter', 'Compactness', 'Length of kernel', 'Width of kernel',\n",
        "                   'Asymmetry coefficient', 'Length of kernal groove']\n",
        "\n",
        "df = pd.DataFrame(data, columns = feature_columns + ['Class'])\n",
        "\n",
        "df\n",
        "#df.describe()\n",
        "\n"
      ]
    },
    {
      "cell_type": "code",
      "execution_count": 42,
      "metadata": {
        "colab": {
          "base_uri": "https://localhost:8080/"
        },
        "id": "VE4U4QA_iUSH",
        "outputId": "6b80b952-8809-4a47-9363-5a76e4a5ab92"
      },
      "outputs": [
        {
          "name": "stdout",
          "output_type": "stream",
          "text": [
            "The best of k is: 3\n"
          ]
        }
      ],
      "source": [
        "# KMeans cluster for k range = 1 to 8. Find the best k.\n",
        "# Reshape and select required data\n",
        "X = df.iloc[:, :-1]\n",
        "y = df.iloc[:, -1] -1 # Change [1,2,3] to [0,1,2] to fit the data format\n",
        "\n",
        "y = np.array(y)\n",
        "y = np.reshape(y, [len(y), 1]) # Reshape y into scalable format\n",
        "\n",
        "# Data scaling\n",
        "Scaler = StandardScaler()\n",
        "X = Scaler.fit_transform(X)\n",
        "X, y = shuffle(X, y, random_state=0)\n",
        "\n",
        "# The maximum k is 8\n",
        "max_k = 8\n",
        "sse = []\n",
        "\n",
        "# KNN neighbors classifier plot function\n",
        "def knee_plot(X, k_max):\n",
        "  for k in range(1, k_max+1):\n",
        "    knn = KNeighborsClassifier(n_neighbors=k)\n",
        "    kmeans = KMeans(n_clusters=k)\n",
        "    kmeans.fit(X)\n",
        "\n",
        "    sse.append(kmeans.inertia_) # The lower the inertia, the better the model\n",
        "\n",
        "knee_plot(X, max_k)\n",
        "\n",
        "best_k = KneeLocator(x=range(1, max_k+1), y=sse, curve='convex', \n",
        "                         direction='decreasing').knee\n",
        "\n",
        "print('The best of k is:', best_k)\n"
      ]
    },
    {
      "cell_type": "code",
      "execution_count": 44,
      "metadata": {
        "colab": {
          "base_uri": "https://localhost:8080/",
          "height": 421
        },
        "id": "AzHVcqn8mn8Z",
        "outputId": "324fd7f9-836a-4284-de76-ad6727eb3ce6"
      },
      "outputs": [
        {
          "data": {
            "text/plain": [
              "Text(0.5, 1.0, 'Knee Point')"
            ]
          },
          "execution_count": 44,
          "metadata": {},
          "output_type": "execute_result"
        },
        {
          "data": {
            "image/png": "[encoded data removed]",
            "text/plain": [
              "<Figure size 432x432 with 1 Axes>"
            ]
          },
          "metadata": {
            "needs_background": "light"
          },
          "output_type": "display_data"
        }
      ],
      "source": [
        "# Use knee method to find the knee/ elbow point of k\n",
        "# Figure for finding the best of k\n",
        "best_k_fig = KneeLocator(x=range(1, max_k+1), y=sse, curve='convex', \n",
        "                         direction='decreasing')\n",
        "\n",
        "best_k_fig.plot_knee()\n",
        "plt.xlabel('number of k')\n",
        "plt.ylabel('Inertia (SSE)')\n",
        "plt.title('Knee Point') # k = 3 will be the elbow point\n"
      ]
    },
    {
      "cell_type": "code",
      "execution_count": 47,
      "metadata": {
        "colab": {
          "base_uri": "https://localhost:8080/",
          "height": 279
        },
        "id": "oAmW4sIrm_mm",
        "outputId": "1b5ff8b9-fbe4-4976-c3aa-564f79295d82"
      },
      "outputs": [
        {
          "data": {
            "image/png": "[encoded data removed]",
            "text/plain": [
              "<Figure size 432x288 with 1 Axes>"
            ]
          },
          "metadata": {
            "needs_background": "light"
          },
          "output_type": "display_data"
        }
      ],
      "source": [
        "import random\n",
        "\n",
        "# Re-run with best k clusters and pick two features fi, fj at random\n",
        "kmeans = KMeans(n_clusters=best_k, random_state=0)\n",
        "kmeans.fit(X)\n",
        "y_pred_k = kmeans.predict(X)\n",
        "\n",
        "random.seed(1)\n",
        "fi, fj = random.sample(list(range(0, len(X[0]))), 2) # Select two features randomly\n",
        "\n",
        "colors = ['blue', 'red', 'green']\n",
        "color_list = [colors[y] for y in y_pred_k] # Assign colors to features\n",
        "plt.scatter(X[:, fi], X[:, fj], c = color_list, s = 50) # fi, fj as axis\n",
        "\n",
        "# Make scatterplots\n",
        "centers = kmeans.cluster_centers_ # Coordinates of the centers (Reassigned iteractively)\n",
        "plt.scatter(centers[:, fi], centers[:, fj], c='black', s = 200, alpha = 0.8)\n",
        "plt.xlabel('Normalized ' + feature_columns[fi])\n",
        "plt.ylabel('Normalized ' + feature_columns[fj])\n",
        "plt.show()"
      ]
    }
  ],
  "metadata": {
    "colab": {
      "provenance": []
    },
    "kernelspec": {
      "display_name": "Python 3",
      "name": "python3"
    },
    "language_info": {
      "name": "python"
    }
  },
  "nbformat": 4,
  "nbformat_minor": 0
}
